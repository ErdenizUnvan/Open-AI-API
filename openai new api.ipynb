{
 "cells": [
  {
   "cell_type": "code",
   "execution_count": null,
   "id": "070f2fba",
   "metadata": {},
   "outputs": [],
   "source": [
    "#https://platform.openai.com/docs/guides/text-generation"
   ]
  },
  {
   "cell_type": "code",
   "execution_count": null,
   "id": "a27dec01",
   "metadata": {},
   "outputs": [],
   "source": [
    "#https://platform.openai.com/docs/guides/vision"
   ]
  },
  {
   "cell_type": "code",
   "execution_count": null,
   "id": "d154a8dc",
   "metadata": {},
   "outputs": [],
   "source": [
    "#Open AI API kullanımı için:\n",
    "#https://platform.openai.com/docs/introduction\n",
    "#https://platform.openai.com/docs/api-reference\n",
    "\n",
    "#Open AI API Key almak için:\n",
    "#https://platform.openai.com/account/api-keys.\n",
    "\n",
    "#Open AI API Cookbook:\n",
    "#https://github.com/openai/openai-cookbook/tree/main"
   ]
  },
  {
   "cell_type": "code",
   "execution_count": null,
   "id": "553714ae",
   "metadata": {},
   "outputs": [],
   "source": [
    "#https://medium.com/@eunvan/yapay-zeka-teknolojisi-ve-dijital-servislerdeki-kullan%C4%B1m%C4%B1-konferans%C4%B1mdaki-referanslar-461239d03dfa"
   ]
  },
  {
   "cell_type": "code",
   "execution_count": null,
   "id": "3eece4ec",
   "metadata": {
    "id": "3eece4ec"
   },
   "outputs": [],
   "source": [
    "!pip install openai"
   ]
  },
  {
   "cell_type": "code",
   "execution_count": null,
   "id": "5e6f1225",
   "metadata": {},
   "outputs": [],
   "source": [
    "#!pip install openai --upgrade"
   ]
  },
  {
   "cell_type": "code",
   "execution_count": null,
   "id": "bf2ebe87",
   "metadata": {},
   "outputs": [],
   "source": [
    "with open('nso_topology_updated.PNG','rb') as f:\n",
    "    image=f.read()\n",
    "\n",
    "#image= Image.open('')\n",
    "image"
   ]
  },
  {
   "cell_type": "code",
   "execution_count": null,
   "id": "ba35e9c2",
   "metadata": {},
   "outputs": [],
   "source": [
    "#ask questions and get reply\n",
    "#generate text from text\n",
    "\n",
    "from openai import OpenAI\n",
    "apikey=''\n",
    "#\n",
    "\n",
    "client = OpenAI(api_key=apikey)\n",
    "\n",
    "response = client.chat.completions.create(\n",
    "  model=\"gpt-4-1106-preview\",\n",
    "  messages=[\n",
    "    {\n",
    "      \"role\": \"user\",\n",
    "      \"content\": \"what is the meaning of life?\"\n",
    "    }\n",
    "\n",
    "  ],\n",
    "  temperature=1,\n",
    "  max_tokens=256,\n",
    "  top_p=1,\n",
    "  frequency_penalty=0,\n",
    "  presence_penalty=0\n",
    ")"
   ]
  },
  {
   "cell_type": "code",
   "execution_count": null,
   "id": "ca41c9b8",
   "metadata": {},
   "outputs": [],
   "source": [
    "type(response)"
   ]
  },
  {
   "cell_type": "code",
   "execution_count": null,
   "id": "67e67505",
   "metadata": {},
   "outputs": [],
   "source": [
    "type(response.choices)"
   ]
  },
  {
   "cell_type": "code",
   "execution_count": null,
   "id": "dda5b338",
   "metadata": {},
   "outputs": [],
   "source": [
    "len(response.choices)"
   ]
  },
  {
   "cell_type": "code",
   "execution_count": null,
   "id": "d94cb6c2",
   "metadata": {},
   "outputs": [],
   "source": [
    "response.choices[0]"
   ]
  },
  {
   "cell_type": "code",
   "execution_count": null,
   "id": "b2f197a6",
   "metadata": {},
   "outputs": [],
   "source": [
    "type(response.choices[0])"
   ]
  },
  {
   "cell_type": "code",
   "execution_count": null,
   "id": "29ac1927",
   "metadata": {},
   "outputs": [],
   "source": [
    "response.choices[0].message.content"
   ]
  },
  {
   "cell_type": "code",
   "execution_count": null,
   "id": "c4485828",
   "metadata": {},
   "outputs": [],
   "source": [
    "print(response.choices[0].message.content)"
   ]
  },
  {
   "cell_type": "code",
   "execution_count": null,
   "id": "38bb75b5",
   "metadata": {},
   "outputs": [],
   "source": [
    "#generate image from text\n",
    "from openai import OpenAI\n",
    "apikey=''\n",
    "\n",
    "\n",
    "client = OpenAI(api_key=apikey)\n",
    "\n",
    "\n",
    "response = client.images.generate(\n",
    "  model=\"dall-e-3\",\n",
    "  prompt=\"a white siamese cat\",\n",
    "  size=\"1024x1024\",\n",
    "  quality=\"standard\",\n",
    "  n=1,\n",
    ")\n",
    "\n",
    "image_url = response.data[0].url"
   ]
  },
  {
   "cell_type": "code",
   "execution_count": null,
   "id": "6e31c6ba",
   "metadata": {},
   "outputs": [],
   "source": [
    "image_url"
   ]
  },
  {
   "cell_type": "code",
   "execution_count": null,
   "id": "c04fa89c",
   "metadata": {},
   "outputs": [],
   "source": []
  },
  {
   "cell_type": "code",
   "execution_count": null,
   "id": "68e74166",
   "metadata": {},
   "outputs": [],
   "source": []
  },
  {
   "cell_type": "code",
   "execution_count": null,
   "id": "f6e5ffa6",
   "metadata": {},
   "outputs": [],
   "source": []
  },
  {
   "cell_type": "code",
   "execution_count": null,
   "id": "e90e34d2",
   "metadata": {},
   "outputs": [],
   "source": [
    "#ask questions about image url\n",
    "\n",
    "from openai import OpenAI\n",
    "apikey=''\n",
    "#\n",
    "\n",
    "client = OpenAI(api_key=apikey)\n",
    "\n",
    "\n",
    "response = client.chat.completions.create(\n",
    "  model=\"gpt-4-vision-preview\",\n",
    "  messages=[\n",
    "    {\n",
    "      \"role\": \"user\",\n",
    "      \"content\": [\n",
    "        {\"type\": \"text\", \"text\": \"What’s in this image?\"},\n",
    "        {\n",
    "          \"type\": \"image_url\",\n",
    "          \"image_url\": {\n",
    "            \"url\": \"https://upload.wikimedia.org/wikipedia/commons/thumb/d/dd/Gfp-wisconsin-madison-the-nature-boardwalk.jpg/2560px-Gfp-wisconsin-madison-the-nature-boardwalk.jpg\",\n",
    "          },\n",
    "        },\n",
    "      ],\n",
    "    }\n",
    "  ],\n",
    "  max_tokens=300,\n",
    ")\n",
    "\n",
    "print(response.choices[0].message.content)"
   ]
  },
  {
   "cell_type": "code",
   "execution_count": null,
   "id": "57330605",
   "metadata": {},
   "outputs": [],
   "source": [
    "#create function to generate text/code from text\n",
    "\n",
    "from openai import OpenAI\n",
    "apikey=''\n",
    "#\n",
    "\n",
    "client = OpenAI(api_key=apikey)\n",
    "\n",
    "def generate_code(prompt):\n",
    "    response = client.chat.completions.create(\n",
    "        model=\"gpt-4-1106-preview\",\n",
    "        messages=[\n",
    "            {\n",
    "              \"role\": \"user\",\n",
    "              \"content\":prompt\n",
    "            }\n",
    "\n",
    "          ],\n",
    "        temperature=1,\n",
    "        max_tokens=256,\n",
    "        top_p=1,\n",
    "        frequency_penalty=0,\n",
    "        presence_penalty=0\n",
    "        )\n",
    "    message = response.choices[0].message.content.strip()\n",
    "    return message"
   ]
  },
  {
   "cell_type": "code",
   "execution_count": null,
   "id": "bb388611",
   "metadata": {},
   "outputs": [],
   "source": [
    "print(generate_code(\"write a python code that returns the weather temperature of a city in celcius from open weather api with requests library\"))"
   ]
  },
  {
   "cell_type": "code",
   "execution_count": null,
   "id": "ee671658",
   "metadata": {},
   "outputs": [],
   "source": [
    "response = client.chat.completions.create(\n",
    "  model=\"gpt-4-1106-preview\",\n",
    "  messages=[\n",
    "    {\n",
    "      \"role\": \"user\",\n",
    "      \"content\": \"write a python code that returns the weather temperature of a city in celcius from open weather api with requests library\"\n",
    "    }\n",
    "\n",
    "  ],\n",
    "  temperature=1,\n",
    "  max_tokens=256,\n",
    "  top_p=1,\n",
    "  frequency_penalty=0,\n",
    "  presence_penalty=0\n",
    ")\n",
    "response.choices[0].message.content"
   ]
  },
  {
   "cell_type": "code",
   "execution_count": null,
   "id": "0ad1f910",
   "metadata": {},
   "outputs": [],
   "source": [
    "print(response.choices[0].message.content)"
   ]
  },
  {
   "cell_type": "code",
   "execution_count": null,
   "id": "cf9e77af",
   "metadata": {},
   "outputs": [],
   "source": []
  },
  {
   "cell_type": "code",
   "execution_count": null,
   "id": "5cc04ae4",
   "metadata": {},
   "outputs": [],
   "source": [
    "#ask questions about image file: png, jpg\n",
    "import base64\n",
    "import requests\n",
    "\n",
    "# OpenAI API Key\n",
    "apikey=''\n",
    "\n",
    "\n",
    "# Function to encode the image\n",
    "def encode_image(image_path):\n",
    "    with open(image_path, \"rb\") as image_file:\n",
    "        return base64.b64encode(image_file.read()).decode('utf-8')\n",
    "\n",
    "# Path to your image\n",
    "image_path = \"nso_topology_updated.PNG\"\n",
    "\n",
    "# Getting the base64 string\n",
    "base64_image = encode_image(image_path)\n",
    "\n",
    "headers = {\n",
    "  \"Content-Type\": \"application/json\",\n",
    "  \"Authorization\": f\"Bearer {api_key}\"\n",
    "}\n",
    "\n",
    "payload = {\n",
    "  \"model\": \"gpt-4-vision-preview\",\n",
    "  \"messages\": [\n",
    "    {\n",
    "      \"role\": \"user\",\n",
    "      \"content\": [\n",
    "        {\n",
    "          \"type\": \"text\",\n",
    "          \"text\": \"Explain the network topology\"\n",
    "        },\n",
    "        {\n",
    "          \"type\": \"image_url\",\n",
    "          \"image_url\": {\n",
    "            \"url\": f\"data:image/jpeg;base64,{base64_image}\"\n",
    "          }\n",
    "        }\n",
    "      ]\n",
    "    }\n",
    "  ],\n",
    "  \"max_tokens\": 1000\n",
    "}\n",
    "\n",
    "response = requests.post(\"https://api.openai.com/v1/chat/completions\", headers=headers, json=payload)\n",
    "\n",
    "print(response.json())"
   ]
  },
  {
   "cell_type": "code",
   "execution_count": null,
   "id": "5fea97b6",
   "metadata": {},
   "outputs": [],
   "source": [
    "response.json()['choices'][0]['message']['content']"
   ]
  },
  {
   "cell_type": "code",
   "execution_count": null,
   "id": "9f57a768",
   "metadata": {},
   "outputs": [],
   "source": [
    "print(response.json()['choices'][0]['message']['content'])"
   ]
  },
  {
   "cell_type": "code",
   "execution_count": null,
   "id": "4c09a074",
   "metadata": {},
   "outputs": [],
   "source": [
    "import base64\n",
    "import requests\n",
    "\n",
    "# OpenAI API Key\n",
    "apikey=''\n",
    "\n",
    "\n",
    "# Function to encode the image\n",
    "def encode_image(image_path):\n",
    "    with open(image_path, \"rb\") as image_file:\n",
    "        return base64.b64encode(image_file.read()).decode('utf-8')\n",
    "\n",
    "# Path to your image\n",
    "image_path = \"nso_topology_updated.PNG\"\n",
    "\n",
    "# Getting the base64 string\n",
    "base64_image = encode_image(image_path)\n",
    "\n",
    "headers = {\n",
    "  \"Content-Type\": \"application/json\",\n",
    "  \"Authorization\": f\"Bearer {apikey}\"\n",
    "}\n",
    "\n",
    "payload = {\n",
    "  \"model\": \"gpt-4-vision-preview\",\n",
    "  \"messages\": [\n",
    "    {\n",
    "      \"role\": \"user\",\n",
    "      \"content\": [\n",
    "        {\n",
    "          \"type\": \"text\",\n",
    "          \"text\": \"Can you explain this network topology including all vlans, connections and loopbacks?\"\n",
    "        },\n",
    "        {\n",
    "          \"type\": \"image_url\",\n",
    "          \"image_url\": {\n",
    "            \"url\": f\"data:image/jpeg;base64,{base64_image}\"\n",
    "          }\n",
    "        }\n",
    "      ]\n",
    "    }\n",
    "  ],\n",
    "  \"max_tokens\": 1000\n",
    "}\n",
    "\n",
    "response = requests.post(\"https://api.openai.com/v1/chat/completions\", headers=headers, json=payload)\n",
    "\n",
    "print(response.json())"
   ]
  },
  {
   "cell_type": "code",
   "execution_count": null,
   "id": "1b4b1b06",
   "metadata": {},
   "outputs": [],
   "source": [
    "print(response.json()['choices'][0]['message']['content'])"
   ]
  },
  {
   "cell_type": "code",
   "execution_count": null,
   "id": "a81236e1",
   "metadata": {},
   "outputs": [],
   "source": [
    "#generate code from text\n",
    "from openai import OpenAI\n",
    "apikey=''\n",
    "\n",
    "client = OpenAI(api_key=apikey)\n",
    "\n",
    "response = client.chat.completions.create(\n",
    "  model=\"gpt-4-1106-preview\",\n",
    "  messages=[\n",
    "    {\n",
    "      \"role\": \"user\",\n",
    "      \"content\": \"write a python code via netmiko to generate vlans for cisco-ios switch ip address of 192.168.101.181. Userame,password and secret is admin. Vlans are : 10 for guests, 90 for ICT, 100 for users and 200 for servers\"\n",
    "    }\n",
    "\n",
    "  ],\n",
    "  temperature=1,\n",
    "  max_tokens=512,\n",
    "  top_p=1,\n",
    "  frequency_penalty=0,\n",
    "  presence_penalty=0\n",
    ")\n",
    "print(response.choices[0].message.content)"
   ]
  },
  {
   "cell_type": "code",
   "execution_count": null,
   "id": "a9a45911",
   "metadata": {},
   "outputs": [],
   "source": []
  },
  {
   "cell_type": "code",
   "execution_count": null,
   "id": "324d1044",
   "metadata": {},
   "outputs": [],
   "source": []
  },
  {
   "cell_type": "code",
   "execution_count": null,
   "id": "83262850",
   "metadata": {},
   "outputs": [],
   "source": [
    "#explain what code does and how it works\n",
    "code=\"\"\"\n",
    "Summarize this code and explain which vlans are created :\n",
    "\n",
    "from netmiko import ConnectHandler\n",
    "\n",
    "# Create a dictionary with connection parameters\n",
    "device = {\n",
    "        'device_type': 'cisco_ios',\n",
    "        'ip': '192.168.101.181',\n",
    "        'username': 'admin',\n",
    "        'password': 'admin',\n",
    "        'secret': 'admin'\n",
    "    }\n",
    "\n",
    "# Create a dictionary with vlan information\n",
    "vlans = {\n",
    "        10: 'guests',\n",
    "        90: 'ICT',\n",
    "        100: 'users',\n",
    "        200: 'servers'\n",
    "    }\n",
    "\n",
    "# Initiate a connection to the device\n",
    "connection = ConnectHandler(**device)\n",
    "\n",
    "# Enter enable mode\n",
    "connection.enable()\n",
    "\n",
    "# Iterate over the vlan dictionary\n",
    "for vlan_id, vlan_name in vlans.items():\n",
    "\n",
    "    # Create configuration commands\n",
    "    config_commands = [\n",
    "        'vlan ' + str(vlan_id),\n",
    "        'name ' + vlan_name\n",
    "    ]\n",
    "\n",
    "    # Send configuration commands to the device\n",
    "    output = connection.send_config_set(config_commands)\n",
    "\n",
    "    # Print the output\n",
    "    print(output)\n",
    "\n",
    "# Close the connection\n",
    "connection.disconnect()\n",
    "\"\"\"\n",
    "print(code)"
   ]
  },
  {
   "cell_type": "code",
   "execution_count": null,
   "id": "c356ee00",
   "metadata": {},
   "outputs": [],
   "source": [
    "from openai import OpenAI\n",
    "apikey=''\n",
    "\n",
    "client = OpenAI(api_key=apikey)\n",
    "\n",
    "response = client.chat.completions.create(\n",
    "  model=\"gpt-4-1106-preview\",\n",
    "  messages=[\n",
    "    {\n",
    "      \"role\": \"user\",\n",
    "      \"content\": code\n",
    "    }\n",
    "\n",
    "  ],\n",
    "  temperature=1,\n",
    "  max_tokens=512,\n",
    "  top_p=1,\n",
    "  frequency_penalty=0,\n",
    "  presence_penalty=0\n",
    ")"
   ]
  },
  {
   "cell_type": "code",
   "execution_count": null,
   "id": "7d0d17db",
   "metadata": {},
   "outputs": [],
   "source": [
    "response"
   ]
  },
  {
   "cell_type": "code",
   "execution_count": null,
   "id": "2d0a81d0",
   "metadata": {},
   "outputs": [],
   "source": [
    "print(response.choices[0].message.content)"
   ]
  },
  {
   "cell_type": "code",
   "execution_count": null,
   "id": "5560f44d",
   "metadata": {},
   "outputs": [],
   "source": []
  }
 ],
 "metadata": {
  "colab": {
   "provenance": []
  },
  "kernelspec": {
   "display_name": "Python 3 (ipykernel)",
   "language": "python",
   "name": "python3"
  },
  "language_info": {
   "codemirror_mode": {
    "name": "ipython",
    "version": 3
   },
   "file_extension": ".py",
   "mimetype": "text/x-python",
   "name": "python",
   "nbconvert_exporter": "python",
   "pygments_lexer": "ipython3",
   "version": "3.11.3"
  }
 },
 "nbformat": 4,
 "nbformat_minor": 5
}
